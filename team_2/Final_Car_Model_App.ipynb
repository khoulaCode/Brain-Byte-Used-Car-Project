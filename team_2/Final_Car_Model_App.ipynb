{
 "cells": [
  {
   "cell_type": "markdown",
   "id": "290964b1",
   "metadata": {},
   "source": [
    "# 🚗 Final Car Price Prediction with Dataset + Model\n",
    "This notebook loads datasets, trains a new model (`car_model`), saves it, and generates a Streamlit app."
   ]
  },
  {
   "cell_type": "markdown",
   "id": "59ab9ee3",
   "metadata": {},
   "source": [
    "## 0. Install Dependencies"
   ]
  },
  {
   "cell_type": "markdown",
   "id": "28d56952",
   "metadata": {},
   "source": [
    "## 1. Load and Explore Data"
   ]
  },
  {
   "cell_type": "code",
   "execution_count": 2,
   "id": "d1d8699e",
   "metadata": {},
   "outputs": [
    {
     "name": "stdout",
     "output_type": "stream",
     "text": [
      "Cleaned dataset shape: (5079, 13)\n",
      "New features dataset shape: (5079, 107)\n"
     ]
    },
    {
     "data": {
      "text/html": [
       "<div>\n",
       "<style scoped>\n",
       "    .dataframe tbody tr th:only-of-type {\n",
       "        vertical-align: middle;\n",
       "    }\n",
       "\n",
       "    .dataframe tbody tr th {\n",
       "        vertical-align: top;\n",
       "    }\n",
       "\n",
       "    .dataframe thead th {\n",
       "        text-align: right;\n",
       "    }\n",
       "</style>\n",
       "<table border=\"1\" class=\"dataframe\">\n",
       "  <thead>\n",
       "    <tr style=\"text-align: right;\">\n",
       "      <th></th>\n",
       "      <th>Price</th>\n",
       "      <th>Kilometers</th>\n",
       "      <th>Transmission</th>\n",
       "      <th>Fuel</th>\n",
       "      <th>Year</th>\n",
       "      <th>Brand</th>\n",
       "      <th>Body Type</th>\n",
       "      <th>Color</th>\n",
       "      <th>Doors</th>\n",
       "      <th>Seats</th>\n",
       "      <th>Interior</th>\n",
       "      <th>Warranty</th>\n",
       "      <th>Number_of_Owners</th>\n",
       "    </tr>\n",
       "  </thead>\n",
       "  <tbody>\n",
       "    <tr>\n",
       "      <th>0</th>\n",
       "      <td>6000.0</td>\n",
       "      <td>100.0</td>\n",
       "      <td>Automatic</td>\n",
       "      <td>Gasoline</td>\n",
       "      <td>2024</td>\n",
       "      <td>Chery</td>\n",
       "      <td>Sedan</td>\n",
       "      <td>Grey</td>\n",
       "      <td>4</td>\n",
       "      <td>5</td>\n",
       "      <td>Part Leather</td>\n",
       "      <td>No</td>\n",
       "      <td>1</td>\n",
       "    </tr>\n",
       "    <tr>\n",
       "      <th>1</th>\n",
       "      <td>39900.0</td>\n",
       "      <td>43000.0</td>\n",
       "      <td>Automatic</td>\n",
       "      <td>Electric</td>\n",
       "      <td>2021</td>\n",
       "      <td>Porsche</td>\n",
       "      <td>Sedan</td>\n",
       "      <td>White</td>\n",
       "      <td>4</td>\n",
       "      <td>5</td>\n",
       "      <td>Full Leather</td>\n",
       "      <td>No</td>\n",
       "      <td>1</td>\n",
       "    </tr>\n",
       "    <tr>\n",
       "      <th>2</th>\n",
       "      <td>8500.0</td>\n",
       "      <td>3383.0</td>\n",
       "      <td>Automatic</td>\n",
       "      <td>Gasoline</td>\n",
       "      <td>2023</td>\n",
       "      <td>Kia</td>\n",
       "      <td>SUV</td>\n",
       "      <td>Brown</td>\n",
       "      <td>4</td>\n",
       "      <td>5</td>\n",
       "      <td>Part Leather</td>\n",
       "      <td>No</td>\n",
       "      <td>1</td>\n",
       "    </tr>\n",
       "    <tr>\n",
       "      <th>3</th>\n",
       "      <td>14000.0</td>\n",
       "      <td>39694.0</td>\n",
       "      <td>Automatic</td>\n",
       "      <td>Gasoline</td>\n",
       "      <td>2023</td>\n",
       "      <td>Infiniti</td>\n",
       "      <td>Sedan</td>\n",
       "      <td>Blue</td>\n",
       "      <td>4</td>\n",
       "      <td>5</td>\n",
       "      <td>Full Leather</td>\n",
       "      <td>No</td>\n",
       "      <td>1</td>\n",
       "    </tr>\n",
       "    <tr>\n",
       "      <th>4</th>\n",
       "      <td>8400.0</td>\n",
       "      <td>235793.0</td>\n",
       "      <td>Automatic</td>\n",
       "      <td>Gasoline</td>\n",
       "      <td>2014</td>\n",
       "      <td>Lexus</td>\n",
       "      <td>SUV</td>\n",
       "      <td>White</td>\n",
       "      <td>4</td>\n",
       "      <td>7</td>\n",
       "      <td>Full Leather</td>\n",
       "      <td>No</td>\n",
       "      <td>1</td>\n",
       "    </tr>\n",
       "  </tbody>\n",
       "</table>\n",
       "</div>"
      ],
      "text/plain": [
       "     Price  Kilometers Transmission      Fuel  Year     Brand Body Type  \\\n",
       "0   6000.0       100.0    Automatic  Gasoline  2024     Chery     Sedan   \n",
       "1  39900.0     43000.0    Automatic  Electric  2021   Porsche     Sedan   \n",
       "2   8500.0      3383.0    Automatic  Gasoline  2023       Kia       SUV   \n",
       "3  14000.0     39694.0    Automatic  Gasoline  2023  Infiniti     Sedan   \n",
       "4   8400.0    235793.0    Automatic  Gasoline  2014     Lexus       SUV   \n",
       "\n",
       "   Color  Doors  Seats      Interior Warranty  Number_of_Owners  \n",
       "0   Grey      4      5  Part Leather       No                 1  \n",
       "1  White      4      5  Full Leather       No                 1  \n",
       "2  Brown      4      5  Part Leather       No                 1  \n",
       "3   Blue      4      5  Full Leather       No                 1  \n",
       "4  White      4      7  Full Leather       No                 1  "
      ]
     },
     "execution_count": 2,
     "metadata": {},
     "output_type": "execute_result"
    }
   ],
   "source": [
    "import pandas as pd\n",
    "\n",
    "cleaned = pd.read_csv(\"cleaned_cars_data.csv\")\n",
    "features = pd.read_csv(\"new_features.csv\")\n",
    "\n",
    "print(\"Cleaned dataset shape:\", cleaned.shape)\n",
    "print(\"New features dataset shape:\", features.shape)\n",
    "\n",
    "cleaned.head()\n"
   ]
  },
  {
   "cell_type": "markdown",
   "id": "60145bd5",
   "metadata": {},
   "source": [
    "## 4. Generate Streamlit App"
   ]
  },
  {
   "cell_type": "code",
   "execution_count": 13,
   "id": "7142c691",
   "metadata": {},
   "outputs": [
    {
     "name": "stdout",
     "output_type": "stream",
     "text": [
      "Overwriting app.py\n"
     ]
    }
   ],
   "source": [
    "%%writefile app.py\n",
    "import streamlit as st\n",
    "import pandas as pd\n",
    "import pickle\n",
    "import matplotlib.pyplot as plt\n",
    "import seaborn as sns\n",
    "\n",
    "# Load model\n",
    "with open(\"best_model.pkl\", \"rb\") as f:\n",
    "    car_model = pickle.load(f)\n",
    "\n",
    "# Load dataset\n",
    "data = pd.read_csv(\"cleaned_cars_data.csv\")\n",
    "\n",
    "st.set_page_config(page_title=\"Car Price Prediction\", page_icon=\"🚘\", layout=\"wide\")\n",
    "\n",
    "st.title(\"🚘 Car Price Prediction App\")\n",
    "st.write(\"Explore car datasets and predict prices using the trained car_model.\")\n",
    "\n",
    "# Tabs\n",
    "tab1, tab2, tab3 = st.tabs([\"📊 Dashboard\", \"🔮 Predict\", \"📈 Insights\"])\n",
    "\n",
    "# Dashboard\n",
    "with tab1:\n",
    "    st.subheader(\"Dataset Overview\")\n",
    "    st.write(data.head())\n",
    "\n",
    "    col1, col2, col3 = st.columns(3)\n",
    "    col1.metric(\"Total Cars\", len(data))\n",
    "    col2.metric(\"Avg Price (OMR)\", f\"{data['Price'].mean():,.0f}\")\n",
    "    col3.metric(\"Top Brand\", data['Brand'].mode()[0])\n",
    "\n",
    "    st.subheader(\"Price Distribution\")\n",
    "    fig, ax = plt.subplots()\n",
    "    sns.histplot(data[\"Price\"], bins=30, kde=True, ax=ax)\n",
    "    st.pyplot(fig)\n",
    "\n",
    "# Prediction\n",
    "with tab2:\n",
    "    st.subheader(\"Enter Car Details\")\n",
    "    brand = st.selectbox(\"Brand\", sorted(data[\"Brand\"].dropna().unique()))\n",
    "    year = st.slider(\"Year\", 1990, 2025, 2018)\n",
    "    kilometers = st.number_input(\"Kilometers\", 0, 500000, 50000)\n",
    "\n",
    "    if st.button(\"Predict Price 🚀\"):\n",
    "        input_df = pd.DataFrame({\n",
    "            \"Brand\": [brand],\n",
    "            \"Year\": [year],\n",
    "            \"Kilometers\": [kilometers]\n",
    "        })\n",
    "\n",
    "        with st.spinner(\"Calculating...\"):\n",
    "            price = car_model.predict(input_df[[\"Year\", \"Kilometers\"]])[0]\n",
    "\n",
    "        st.success(f\"💰 Estimated Price: **{price:,.2f} OMR**\")\n",
    "\n",
    "# Insights\n",
    "with tab3:\n",
    "    st.subheader(\"Correlation Heatmap\")\n",
    "    corr = data.corr(numeric_only=True)\n",
    "    fig, ax = plt.subplots(figsize=(8,5))\n",
    "    sns.heatmap(corr, annot=True, cmap=\"coolwarm\", ax=ax)\n",
    "    st.pyplot(fig)\n"
   ]
  },
  {
   "cell_type": "markdown",
   "id": "0b9ecae7",
   "metadata": {},
   "source": [
    "## 5. Run the App"
   ]
  },
  {
   "cell_type": "code",
   "execution_count": null,
   "id": "21dffa66",
   "metadata": {},
   "outputs": [],
   "source": [
    "# streamlit run app.py\n"
   ]
  }
 ],
 "metadata": {
  "kernelspec": {
   "display_name": "Python [conda env:base] *",
   "language": "python",
   "name": "conda-base-py"
  },
  "language_info": {
   "codemirror_mode": {
    "name": "ipython",
    "version": 3
   },
   "file_extension": ".py",
   "mimetype": "text/x-python",
   "name": "python",
   "nbconvert_exporter": "python",
   "pygments_lexer": "ipython3",
   "version": "3.13.5"
  }
 },
 "nbformat": 4,
 "nbformat_minor": 5
}
